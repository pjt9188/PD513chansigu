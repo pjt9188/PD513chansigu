{
 "cells": [
  {
   "cell_type": "code",
   "execution_count": 105,
   "metadata": {},
   "outputs": [],
   "source": [
    "import cv2\n",
    "import math\n",
    "import numpy as np\n",
    "# from cv_bridge import CvBridge\n",
    "\n",
    "import matplotlib.pyplot as plt\n",
    "import matplotlib.image as mpimg\n",
    "# import PyQt5"
   ]
  },
  {
   "cell_type": "code",
   "execution_count": 106,
   "metadata": {},
   "outputs": [],
   "source": [
    "def hsv(img, color='green'):\n",
    "    hsv = cv2.cvtColor(img, cv2.COLOR_RGB2HSV)\n",
    "\n",
    "    # 휴리스틱으로 구한거 같은데? 오진다,\n",
    "    if color == 'green':\n",
    "        mask = cv2.inRange(hsv, (25, 60, 50), (86, 255, 255))\n",
    "    elif color == 'red':\n",
    "        mask = cv2.inRange(hsv, (115, 100, 50), (130, 255, 255))\n",
    "    elif color == 'blue':\n",
    "        mask = cv2.inRange(hsv, (10, 150, 50), (30, 255, 255))\n",
    "    elif color == 'yellow':\n",
    "        mask = cv2.inRange(hsv, (80, 40, 145), (150, 255, 255))\n",
    "        # mask = cv2.inRange(hsv, (80, 100, 145), (150, 255, 255))\n",
    "\n",
    "    imask = mask > 0\n",
    "    output = np.zeros_like(hsv, np.uint8)\n",
    "    output[imask] = 255\n",
    "\n",
    "    return output[:,:,0]\n"
   ]
  },
  {
   "cell_type": "code",
   "execution_count": 107,
   "metadata": {},
   "outputs": [],
   "source": [
    "def detect_square(input):\n",
    "    min_area = 740\n",
    "    H, W = input.shape[:2]\n",
    "    # image morpholgy로 라인만 찾는거 같음\n",
    "    kernel = cv2.getStructuringElement(cv2.MORPH_ELLIPSE, (9,9)) # kernel 만들기\n",
    "    clean = cv2.morphologyEx(input, cv2.MORPH_OPEN, kernel) # 이럴거면 왜 이미지 하나로 opening, closing하는지?\n",
    "    kernel = cv2.getStructuringElement(cv2.MORPH_ELLIPSE, (15,15))\n",
    "    img_clean = cv2.morphologyEx(input, cv2.MORPH_CLOSE, kernel)\n",
    "    cv2.imwrite('test.png', clean)\n",
    "\n",
    "    contours, hier = cv2.findContours(clean, cv2.RETR_EXTERNAL, cv2.CHAIN_APPROX_SIMPLE) #RETR_EXTERNAL: 외각선만 찾기, CHAIN_APPROX_SIMPLE: 수직선, 수평선, 대각선에 대해 끝점만 저장\n",
    "    # contours = contours[0] if len(contours) == 2 else contours[1]\n",
    "    # zzz = cv2.drawContours(clean, contours, -1, (0,255,0), 4)\n",
    "    # cv2.imwrite('tett.png', zzz)\n",
    "\n",
    "    # square = None\n",
    "    # square_center = 0\n",
    "    # is_square = False\n",
    "\n",
    "    # for c in contours:\n",
    "    #     rot_rect = cv2.minAreaRect(c) # contour를 둘러싸는 최소한 크기의 직사각형 만들기\n",
    "    #     temp_area = rot_rect[1][0] * rot_rect[1][1]\n",
    "    #     temp_square = cv2.boxPoints(rot_rect)\n",
    "    #     temp_center = np.int0(np.mean(temp_square, axis=0))\n",
    "\n",
    "    #     if temp_area >= min_area and temp_center[0] > square_center:\n",
    "    #         square = np.int0(temp_square)\n",
    "    #         square_center = temp_center[0]\n",
    "    #         area = temp_area\n",
    "    #         is_square = True\n",
    "\n",
    "    return img_clean"
   ]
  },
  {
   "cell_type": "code",
   "execution_count": 114,
   "metadata": {},
   "outputs": [
    {
     "data": {
      "text/plain": [
       "True"
      ]
     },
     "execution_count": 114,
     "metadata": {},
     "output_type": "execute_result"
    }
   ],
   "source": [
    "img = cv2.imread(\"x.png\")\n",
    "img_temp = hsv(img, \"yellow\")\n",
    "img_clean = detect_square(img_temp)\n",
    "cv2.imwrite(\"tt.png\",img_temp)\n",
    "# x, _ = detect_square(img_temp)\n",
    "# cv2.imwrite(\"tt.png\", x)\n"
   ]
  },
  {
   "cell_type": "code",
   "execution_count": 115,
   "metadata": {},
   "outputs": [
    {
     "name": "stdout",
     "output_type": "stream",
     "text": [
      "(2000, 1430)\n",
      "715 324 1025\n"
     ]
    }
   ],
   "source": []
  },
  {
   "cell_type": "code",
   "execution_count": 116,
   "metadata": {},
   "outputs": [
    {
     "name": "stderr",
     "output_type": "stream",
     "text": [
      "/var/folders/6g/s0rbwl9n52nclf8r0s_dds6h0000gn/T/ipykernel_13216/2973313196.py:42: DeprecationWarning: `np.int` is a deprecated alias for the builtin `int`. To silence this warning, use `int` by itself. Doing this will not modify any behavior and is safe. When replacing `np.int`, you may wish to use e.g. `np.int64` or `np.int32` to specify the precision. If you wish to review your current use, check the release note link for additional information.\n",
      "Deprecated in NumPy 1.20; for more details and guidance: https://numpy.org/devdocs/release/1.20.0-notes.html#deprecations\n",
      "  leftx_current = np.int(np.mean(nonzerox[good_left_inds]))\n",
      "/var/folders/6g/s0rbwl9n52nclf8r0s_dds6h0000gn/T/ipykernel_13216/2973313196.py:44: DeprecationWarning: `np.int` is a deprecated alias for the builtin `int`. To silence this warning, use `int` by itself. Doing this will not modify any behavior and is safe. When replacing `np.int`, you may wish to use e.g. `np.int64` or `np.int32` to specify the precision. If you wish to review your current use, check the release note link for additional information.\n",
      "Deprecated in NumPy 1.20; for more details and guidance: https://numpy.org/devdocs/release/1.20.0-notes.html#deprecations\n",
      "  rightx_current = np.int(np.mean(nonzerox[good_right_inds]))\n"
     ]
    },
    {
     "data": {
      "text/plain": [
       "<matplotlib.image.AxesImage at 0x16bc50a00>"
      ]
     },
     "execution_count": 116,
     "metadata": {},
     "output_type": "execute_result"
    },
    {
     "data": {
      "image/png": "[encoded data removed]",
      "text/plain": [
       "<Figure size 640x480 with 1 Axes>"
      ]
     },
     "metadata": {},
     "output_type": "display_data"
    }
   ],
   "source": [
    "\n",
    "# plt.imshow(img_warped_croped, cmap='gray')\n",
    "img_warped_croped = img_clean\n",
    "\n",
    "out_img = cv2.cvtColor(img_clean, cv2.COLOR_BGR2RGB)\n",
    "# print(type(img_warped_croped))\n",
    "# HYPERPARAMETERS\n",
    "# Choose the number of sliding windows\n",
    "nwindows = 10\n",
    "\n",
    "# Set the width of the windows +/- margin\n",
    "margin = 50\n",
    "\n",
    "# Set minimum number of pixels found to recenter window\n",
    "minpix = 50\n",
    "\n",
    "# Set height of windows - based on nwindows above and image shape\n",
    "window_height = np.int64(img_warped_croped.shape[0]//nwindows)\n",
    "\n",
    "# Create an output image to draw on and visualize the result\n",
    "# out_img = np.dstack((img_warped_croped*255, img_warped_croped*255, img_warped_croped*255))\n",
    "print(img_warped_croped.shape)\n",
    "\n",
    "\n",
    "# Take a histogram of the bottom half of the image\n",
    "histogram = np.sum(img_warped_croped[img_warped_croped.shape[0]-window_height:img_warped_croped.shape[0],:], axis=0)\n",
    "\n",
    "\n",
    "midpoint = np.int64(histogram.shape[0]//2)\n",
    "leftx_base = np.argmax(histogram[:midpoint])\n",
    "rightx_base = np.argmax(histogram[midpoint:]) + midpoint\n",
    "\n",
    "\n",
    "\n",
    "nonzero = img_warped_croped.nonzero()\n",
    "nonzeroy = np.array(nonzero[0])\n",
    "nonzerox = np.array(nonzero[1])\n",
    "\n",
    "# Current positions to be updated later for each window in nwindows\n",
    "leftx_current = leftx_base\n",
    "rightx_current = rightx_base\n",
    "\n",
    "# Create empty lists to receive left and right lane pixel indices\n",
    "left_lane_inds = []\n",
    "right_lane_inds = []\n",
    "\n",
    "# Step through the windows one by one\n",
    "# for window in range(nwindows):\n",
    "for window in range(nwindows):\n",
    "    # Identify window boundaries in x and y (and right and left)\n",
    "    win_y_low = img_warped_croped.shape[0] - (window+1)*window_height\n",
    "    win_y_high = img_warped_croped.shape[0] - window*window_height\n",
    "    ### TO-DO: Find the four below boundaries of the window ###\n",
    "    win_xleft_low = leftx_current - margin  # Update this\n",
    "    win_xleft_high = leftx_current + margin  # Update this\n",
    "    win_xright_low = rightx_current - margin  # Update this\n",
    "    win_xright_high = rightx_current + margin  # Update this\n",
    "\n",
    "    # Draw the windows on the visualization image\n",
    "    cv2.rectangle(out_img,(win_xleft_low, win_y_low),(win_xleft_high, win_y_high),(0,255,0), 2) \n",
    "    cv2.rectangle(out_img,(win_xright_low,win_y_low),(win_xright_high,win_y_high),(0,255,0), 2) \n",
    "    # plt.imshow(xx)\n",
    "    ### TO-DO: Identify the nonzero pixels in x and y within the window ###\n",
    "    good_left_inds = ((nonzerox >= win_xleft_low) & (nonzerox < win_xleft_high) & (nonzeroy >= win_y_low) & (nonzeroy < win_y_high)).nonzero()[0]\n",
    "    good_right_inds = ((nonzerox >= win_xright_low) & (nonzerox < win_xright_high) & (nonzeroy >= win_y_low) & (nonzeroy < win_y_high)).nonzero()[0]\n",
    "\n",
    "    # Append these indices to the lists\n",
    "    left_lane_inds.append(good_left_inds)\n",
    "    right_lane_inds.append(good_right_inds)\n",
    "\n",
    "    ### TO-DO: If you found > minpix pixels, recenter next window ###\n",
    "    ### (`right` or `leftx_current`) on their peak histogram ###\n",
    "    if(len(good_left_inds) > minpix):\n",
    "        leftx_current = np.int(np.mean(nonzerox[good_left_inds]))\n",
    "    if(len(good_right_inds) > minpix):\n",
    "        rightx_current = np.int(np.mean(nonzerox[good_right_inds]))\n",
    "\n",
    "# plt.figure(figsize = (24, 9))\n",
    "plt.imshow(out_img)"
   ]
  },
  {
   "cell_type": "code",
   "execution_count": null,
   "metadata": {},
   "outputs": [],
   "source": []
  },
  {
   "cell_type": "code",
   "execution_count": null,
   "metadata": {},
   "outputs": [],
   "source": []
  }
 ],
 "metadata": {
  "kernelspec": {
   "display_name": "Python 3.9.14 64-bit",
   "language": "python",
   "name": "python3"
  },
  "language_info": {
   "codemirror_mode": {
    "name": "ipython",
    "version": 3
   },
   "file_extension": ".py",
   "mimetype": "text/x-python",
   "name": "python",
   "nbconvert_exporter": "python",
   "pygments_lexer": "ipython3",
   "version": "3.9.14"
  },
  "orig_nbformat": 4,
  "vscode": {
   "interpreter": {
    "hash": "a665b5d41d17b532ea9890333293a1b812fa0b73c9c25c950b3cedf1bebd0438"
   }
  }
 },
 "nbformat": 4,
 "nbformat_minor": 2
}
