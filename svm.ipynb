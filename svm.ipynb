{
 "cells": [
  {
   "cell_type": "code",
   "execution_count": 3,
   "metadata": {},
   "outputs": [],
   "source": [
    "import cv2\n",
    "import numpy as np"
   ]
  },
  {
   "cell_type": "code",
   "execution_count": 4,
   "metadata": {},
   "outputs": [
    {
     "name": "stdout",
     "output_type": "stream",
     "text": [
      "(480, 640, 3)\n"
     ]
    }
   ],
   "source": [
    "front_img = cv2.imread('front.jpg', cv2.IMREAD_COLOR)\n",
    "left_img = cv2.imread('left.jpg', cv2.IMREAD_COLOR)\n",
    "right_img = cv2.imread('right.jpg', cv2.IMREAD_COLOR)\n",
    "rear_img = cv2.imread('rear.jpg', cv2.IMREAD_COLOR)\n",
    "car_img = cv2.imread('car.png', cv2.IMREAD_COLOR)\n",
    "car_img = cv2.rotate(car_img, cv2.ROTATE_180)\n",
    "print(front_img.shape)"
   ]
  },
  {
   "cell_type": "markdown",
   "metadata": {},
   "source": [
    "svm 만들기\n"
   ]
  },
  {
   "cell_type": "code",
   "execution_count": 58,
   "metadata": {},
   "outputs": [],
   "source": [
    "forward_src = np.float32([\n",
    "    (125, 180),\n",
    "    (0, 440),\n",
    "    (500, 180),\n",
    "    (640, 440)\n",
    "])\n",
    "\n",
    "forward_dst = np.float32([\n",
    "    (140, 90),\n",
    "    (160, 440),\n",
    "    (480, 85),\n",
    "    (470, 445)\n",
    "])\n",
    "\n",
    "backward_src = np.float32([\n",
    "    (115, 90),\n",
    "    (0, 270),\n",
    "    (530, 95),\n",
    "    (840, 480)\n",
    "])\n",
    "\n",
    "backward_dst = np.float32([\n",
    "    (160, 100),\n",
    "    (150, 370),\n",
    "    (500, 95),\n",
    "    (510, 480)\n",
    "])\n",
    "\n",
    "left_src = np.float32([\n",
    "    (115, 55),\n",
    "    (15, 410),\n",
    "    (520, 30),\n",
    "    (620, 400)\n",
    "])\n",
    "\n",
    "left_dst = np.float32([\n",
    "    (140, 90),\n",
    "    (140, 410),\n",
    "    (480, 85),\n",
    "    (480, 425)\n",
    "])\n",
    "\n",
    "right_src = np.float32([\n",
    "    (100, 45),\n",
    "    (5,415),\n",
    "    (510, 45),\n",
    "    (620, 410)\n",
    "])\n",
    "\n",
    "right_dst = np.float32([\n",
    "    (140, 90),\n",
    "    (140, 440),\n",
    "    (480, 85),\n",
    "    (480, 445)\n",
    "])"
   ]
  },
  {
   "cell_type": "code",
   "execution_count": 76,
   "metadata": {},
   "outputs": [],
   "source": [
    "\n",
    "def front(img):\n",
    "    IMAGE_H, IMAGE_W, _ = img.shape\n",
    "\n",
    "    #print(img.shape)\n",
    "    #img = np.concatenate([np.zeros((400,250,3)).astype(np.uint8),img,np.zeros((400,250,3)).astype(np.uint8)],1)\n",
    "\n",
    "    src = forward_src#np.float32([[249, 399], [549, 399], [289, 0], [509, 0]])\n",
    "    dst = forward_dst#np.float32([[279, 399], [519, 399], [0, 0], [799, 0]])\n",
    "    #src = np.float32([[210,115], [210,180], [150,120], [150,175]])\n",
    "    #dst = np.float32([[210,115], [210,180], [150,115], [150,180]])\n",
    "    M = cv2.getPerspectiveTransform(src, dst) # The transformation matrix\n",
    "    Minv = cv2.getPerspectiveTransform(dst, src) # Inverse transformation\n",
    "\n",
    "    IMAGE_H, IMAGE_W, _ = img.shape\n",
    "\n",
    "    warped_img = cv2.warpPerspective(img, M, (IMAGE_W, IMAGE_H))#[:300] # Image warping\n",
    "    output = warped_img[90:,:-10]\n",
    "    return output#cv2.resize(warped_img[200:,100:-100], dsize=(800, 400),interpolation=cv2.INTER_LINEAR)#warped_img\n",
    "\n",
    "def rear(img):\n",
    "        IMAGE_H, IMAGE_W, _ = img.shape\n",
    "    \n",
    "    \t#img = np.concatenate([np.zeros((400,250,3)).astype(np.uint8),img,np.zeros((400,250,3)).astype(np.uint8)],1)\n",
    "        src = backward_src#np.float32([[249, 399], [549, 399], [289, 0], [509, 0]])\n",
    "        dst = backward_dst#np.float32([[279, 399], [519, 399], [0, 0], [799, 0]])\n",
    "    \t#src = np.float32([[210,115], [210,180], [150,120], [150,175]])\n",
    "        #dst = np.float32([[210,115], [210,180], [150,115], [150,180]])\n",
    "        M = cv2.getPerspectiveTransform(src, dst) # The transformation matrix\n",
    "        Minv = cv2.getPerspectiveTransform(dst, src) # Inverse transformation\n",
    "    \n",
    "        IMAGE_H, IMAGE_W, _ = img.shape\n",
    "    \n",
    "        warped_img = cv2.warpPerspective(img, M, (IMAGE_W, IMAGE_H))#[:300] # Image warping\n",
    "        output = warped_img[90:,:]\n",
    "        output = cv2.rotate(output, cv2.ROTATE_180)\n",
    "        return output#cv2.resize(warped_img[200:,100:-100], dsize=(800, 400),interpolation=cv2.INTER_LINEAR)#warped_img\n",
    "    \n",
    "def side_left(img):\n",
    "    \n",
    "    IMAGE_H, IMAGE_W, _ = img.shape\n",
    "    #src = np.float32([[0, 299], [399, 299], [0, 0], [399, 0]])\n",
    "    #dst = np.float32([[0, 299], [399, 299], [100, 0], [299, 0]])\n",
    "    src = left_src\n",
    "    dst = left_dst\n",
    "    M = cv2.getPerspectiveTransform(src, dst) # The transformation matrix\n",
    "    Minv = cv2.getPerspectiveTransform(dst, src) # Inverse transformation.mkv\n",
    "    \n",
    "    warped_img = cv2.warpPerspective(img, M, (IMAGE_W, IMAGE_H)) # Image warping\n",
    "    output = warped_img[90:,:]\n",
    "    output = cv2.rotate(output, cv2.ROTATE_90_COUNTERCLOCKWISE)#[:,:350]\n",
    "    # warped_img = cv2.warpPerspective(img, M, (IMAGE_H, IMAGE_W)) # Image warping\n",
    "    \n",
    "    return output\n",
    "    \n",
    "def side_right(img):\n",
    "    \n",
    "    IMAGE_H, IMAGE_W, _ = img.shape\n",
    "    \n",
    "    #src = np.float32([[0, 299], [399, 299], [0, 0], [399, 0]])\n",
    "    #dst = np.float32([[0, 299], [399, 299], [100, 0], [299, 0]])\n",
    "    src = right_src\n",
    "    dst = right_dst\n",
    "    M = cv2.getPerspectiveTransform(src, dst) # The transformation matrix\n",
    "    Minv = cv2.getPerspectiveTransform(dst, src) # Inverse transformation.mkv\n",
    "\n",
    "    warped_img = cv2.warpPerspective(img, M, (IMAGE_W, IMAGE_H)) # Image warping\n",
    "    output = warped_img[90:,:]\n",
    "    output = cv2.rotate(output, cv2.ROTATE_90_CLOCKWISE)#[:,:350]\n",
    "    # warped_img = cv2.warpPerspective(img, M, (IMAGE_H, IMAGE_W)) # Image warping\n",
    "    return output"
   ]
  },
  {
   "cell_type": "code",
   "execution_count": 52,
   "metadata": {},
   "outputs": [
    {
     "name": "stdout",
     "output_type": "stream",
     "text": [
      "(480, 640, 3)\n",
      "(390, 640, 3)\n"
     ]
    },
    {
     "data": {
      "text/plain": [
       "True"
      ]
     },
     "execution_count": 52,
     "metadata": {},
     "output_type": "execute_result"
    }
   ],
   "source": [
    "temp = front_img.copy()\n",
    "print(temp.shape)\n",
    "# cv2.line(temp,(510, 45), (620, 410), (0,0,255), 3)\n",
    "temp = front(temp)\n",
    "print(temp.shape)\n",
    "cv2.imwrite('temp.png', temp)"
   ]
  },
  {
   "cell_type": "code",
   "execution_count": 45,
   "metadata": {},
   "outputs": [
    {
     "data": {
      "text/plain": [
       "True"
      ]
     },
     "execution_count": 45,
     "metadata": {},
     "output_type": "execute_result"
    }
   ],
   "source": [
    "# x = front(front_img)\n",
    "# print(front_img.shape)\n",
    "IMAGE_H, IMAGE_W, _ = front_img.shape\n",
    "car = np.zeros((IMAGE_H, IMAGE_W, 3), np.uint8)\n",
    "# car[:,150:490,:] = car_img\n",
    "# print(car.shape)\n",
    "# print(front_img.shape)\n",
    "temp_front = front_img.copy()\n",
    "temp_rear = rear_img.copy()\n",
    "# temp_rear = cv2.rotate(temp_rear, cv2.ROTATE_180)\n",
    "trans_front = front(temp_front)\n",
    "trans_rear = rear(temp_rear)\n",
    "\n",
    "x = np.vstack([trans_front, car, trans_rear])\n",
    "cv2.imwrite('test.png', x)\n",
    "# y = np.vstack([front_img, car, cv2.rotate(rear_img, cv2.ROTATE_180)])\n",
    "# cv2.imwrite('test2.png', y)\n",
    "# test2 = rear(test)\n",
    "# cv2.imwrite('test2.png', test2)\n",
    "# cv2.waitKey(0)\n",
    "# cv2.destroyAllWindows()"
   ]
  },
  {
   "cell_type": "markdown",
   "metadata": {},
   "source": [
    "svm merge"
   ]
  },
  {
   "cell_type": "code",
   "execution_count": 165,
   "metadata": {},
   "outputs": [],
   "source": [
    "\n",
    "def merge(head,tail,left,right,car):\n",
    "    # horizontal = np.concatenate([np.zeros((640,179,3)),left,np.zeros((640,236,3)),right,np.zeros((640,179,3))],1)\n",
    "    car_width = 650\n",
    "    car_height = 640+170\n",
    "    car_final = cv2.resize(car, (car_width, car_height), interpolation=cv2.INTER_LINEAR)\n",
    "    side_H, side_W, _ = left.shape\n",
    "    head_H, head_W, _ = head.shape\n",
    "    total_width = car_width+side_W+side_W\n",
    "    \n",
    "    horizontal = np.concatenate([left,np.zeros((side_H,car_width,3)),right],1)\n",
    "    horizontal = cv2.resize(horizontal, dsize=(horizontal.shape[1],800), interpolation = cv2.INTER_LINEAR)\n",
    "    tail = cv2.resize(tail, dsize=(total_width,600), interpolation = cv2.INTER_LINEAR)\n",
    "    head = cv2.resize(head, dsize=(total_width,600), interpolation = cv2.INTER_LINEAR)\n",
    "    \n",
    "    #head = head/255#np.concatenate([np.zeros((400,(800-500)//2,3)),head/255,np.zeros((400,(800-500)//2,3))],1)\n",
    "    \n",
    "    # head_empty = np.zeros((140,head.shape[1],3)).astype(np.uint8)\n",
    "    # tail_empty = np.zeros((140,tail.shape[1],3)).astype(np.uint8)\n",
    "    # bev = np.concatenate([head,head_empty,horizontal,tail_empty,tail],0)\n",
    "    bev = np.concatenate([head, horizontal, tail], 0)\n",
    "    bev[head.shape[0]-25:head.shape[0]+car_height-25,side_W:side_W+car_width,:] = car_final\n",
    "    bev = (bev).astype(np.uint8)\n",
    "    # tt = np.zeros((3300, 1600))\n",
    "    #bev = Image.fromarray(bev)\n",
    "\n",
    "    return bev"
   ]
  },
  {
   "cell_type": "code",
   "execution_count": 166,
   "metadata": {},
   "outputs": [
    {
     "data": {
      "text/plain": [
       "True"
      ]
     },
     "execution_count": 166,
     "metadata": {},
     "output_type": "execute_result"
    }
   ],
   "source": [
    "ff = front(front_img)\n",
    "rr = rear(rear_img)\n",
    "ls = side_left(left_img)\n",
    "rs = side_right(right_img)\n",
    "# IMAGE_H, IMAGE_W, _ = front_img.shape\n",
    "# car = np.zeros((IMAGE_H, IMAGE_W, 3), np.uint8)\n",
    "# car[:,150:490,:] = car_img\n",
    "\n",
    "x = merge(ff, rr, ls, rs, car_img)\n",
    "# x = cv2.line(left_img.copy(), (0, 0), (399, 0), (0,0,255),3)\n",
    "# print(sero)\n",
    "\n",
    "# x[sero:-sero,(240+179):-(240+179)] = car_img\n",
    "cv2.imwrite('x.png', x)\n"
   ]
  },
  {
   "cell_type": "markdown",
   "metadata": {},
   "source": [
    "lane detection\n"
   ]
  },
  {
   "cell_type": "code",
   "execution_count": 313,
   "metadata": {},
   "outputs": [],
   "source": [
    "def hsv(img, color='green'):\n",
    "    hsv = cv2.cvtColor(img, cv2.COLOR_RGB2HSV)\n",
    "\n",
    "    # 휴리스틱으로 구한거 같은데? 오진다,\n",
    "    if color == 'green':\n",
    "        mask = cv2.inRange(hsv, (25, 60, 50), (86, 255, 255))\n",
    "    elif color == 'red':\n",
    "        mask = cv2.inRange(hsv, (115, 100, 50), (130, 255, 255))\n",
    "    elif color == 'blue':\n",
    "        mask = cv2.inRange(hsv, (10, 150, 50), (30, 255, 255))\n",
    "    elif color == 'yellow':\n",
    "        mask = cv2.inRange(hsv, (80, 40, 145), (150, 255, 255))\n",
    "        # mask = cv2.inRange(hsv, (80, 100, 145), (150, 255, 255))\n",
    "\n",
    "    imask = mask > 0\n",
    "    output = np.zeros_like(hsv, np.uint8)\n",
    "    output[imask] = 255\n",
    "\n",
    "    return output[:,:,0]\n"
   ]
  },
  {
   "cell_type": "code",
   "execution_count": 322,
   "metadata": {},
   "outputs": [],
   "source": [
    "def detect_square(input):\n",
    "    min_area = 740\n",
    "    H, W = input.shape[:2]\n",
    "    # image morpholgy로 라인만 찾는거 같음\n",
    "    kernel = cv2.getStructuringElement(cv2.MORPH_ELLIPSE, (9,9)) # kernel 만들기\n",
    "    clean = cv2.morphologyEx(input, cv2.MORPH_OPEN, kernel) # 이럴거면 왜 이미지 하나로 opening, closing하는지?\n",
    "    # kernel = cv2.getStructuringElement(cv2.MORPH_ELLIPSE, (15,15))\n",
    "    # clean = cv2.morphologyEx(input, cv2.MORPH_CLOSE, kernel)\n",
    "    cv2.imwrite('test.png', clean)\n",
    "    contours = cv2.findContours(clean, cv2.RETR_EXTERNAL, cv2.CHAIN_APPROX_SIMPLE) #RETR_EXTERNAL: 외각선만 찾기, CHAIN_APPROX_SIMPLE: 수직선, 수평선, 대각선에 대해 끝점만 저장\n",
    "    contours = contours[0] if len(contours) == 2 else contours[1]\n",
    "\n",
    "    square = None\n",
    "    square_center = 0\n",
    "    is_square = False\n",
    "\n",
    "    for c in contours:\n",
    "        rot_rect = cv2.minAreaRect(c) # contour를 둘러싸는 최소한 크기의 직사각형 만들기\n",
    "        temp_area = rot_rect[1][0] * rot_rect[1][1]\n",
    "        temp_square = cv2.boxPoints(rot_rect)\n",
    "        temp_center = np.int0(np.mean(temp_square, axis=0))\n",
    "\n",
    "        if temp_area >= min_area and temp_center[0] > square_center:\n",
    "            square = np.int0(temp_square)\n",
    "            square_center = temp_center[0]\n",
    "            area = temp_area\n",
    "            is_square = True\n",
    "\n",
    "    return square, is_square"
   ]
  },
  {
   "cell_type": "code",
   "execution_count": 323,
   "metadata": {},
   "outputs": [],
   "source": [
    "front_view = hsv(front_img, 'yellow')\n",
    "front_view,_ = detect_square(front_view)\n"
   ]
  },
  {
   "cell_type": "code",
   "execution_count": 70,
   "metadata": {},
   "outputs": [
    {
     "ename": "IndexError",
     "evalue": "index 480 is out of bounds for axis 0 with size 480",
     "output_type": "error",
     "traceback": [
      "\u001b[0;31m---------------------------------------------------------------------------\u001b[0m",
      "\u001b[0;31mIndexError\u001b[0m                                Traceback (most recent call last)",
      "\u001b[0;32m/tmp/ipykernel_4957/3959319908.py\u001b[0m in \u001b[0;36m<module>\u001b[0;34m\u001b[0m\n\u001b[1;32m      1\u001b[0m \u001b[0mnp\u001b[0m\u001b[0;34m.\u001b[0m\u001b[0mzeros\u001b[0m\u001b[0;34m(\u001b[0m\u001b[0;34m(\u001b[0m\u001b[0;36m3\u001b[0m\u001b[0;34m,\u001b[0m\u001b[0;36m2\u001b[0m\u001b[0;34m)\u001b[0m\u001b[0;34m)\u001b[0m\u001b[0;34m\u001b[0m\u001b[0;34m\u001b[0m\u001b[0m\n\u001b[1;32m      2\u001b[0m \u001b[0mfront_img\u001b[0m\u001b[0;34m.\u001b[0m\u001b[0mshape\u001b[0m\u001b[0;34m\u001b[0m\u001b[0;34m\u001b[0m\u001b[0m\n\u001b[0;32m----> 3\u001b[0;31m \u001b[0mfront_img\u001b[0m\u001b[0;34m[\u001b[0m\u001b[0;36m480\u001b[0m\u001b[0;34m,\u001b[0m\u001b[0;36m0\u001b[0m\u001b[0;34m,\u001b[0m\u001b[0;36m1\u001b[0m\u001b[0;34m]\u001b[0m\u001b[0;34m\u001b[0m\u001b[0;34m\u001b[0m\u001b[0m\n\u001b[0m",
      "\u001b[0;31mIndexError\u001b[0m: index 480 is out of bounds for axis 0 with size 480"
     ]
    }
   ],
   "source": [
    "np.zeros((3,2))\n",
    "front_img.shape\n",
    "front_img[480,0,1]"
   ]
  },
  {
   "cell_type": "code",
   "execution_count": null,
   "metadata": {},
   "outputs": [],
   "source": []
  }
 ],
 "metadata": {
  "kernelspec": {
   "display_name": "Python 3.9.14 64-bit",
   "language": "python",
   "name": "python3"
  },
  "language_info": {
   "codemirror_mode": {
    "name": "ipython",
    "version": 3
   },
   "file_extension": ".py",
   "mimetype": "text/x-python",
   "name": "python",
   "nbconvert_exporter": "python",
   "pygments_lexer": "ipython3",
   "version": "3.9.14"
  },
  "orig_nbformat": 4,
  "vscode": {
   "interpreter": {
    "hash": "a665b5d41d17b532ea9890333293a1b812fa0b73c9c25c950b3cedf1bebd0438"
   }
  }
 },
 "nbformat": 4,
 "nbformat_minor": 2
}
